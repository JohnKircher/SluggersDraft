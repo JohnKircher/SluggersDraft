{
 "cells": [
  {
   "cell_type": "code",
   "execution_count": 2,
   "metadata": {},
   "outputs": [],
   "source": [
    "import math\n",
    "import ast\n",
    "import pandas as pd"
   ]
  },
  {
   "cell_type": "code",
   "execution_count": 3,
   "metadata": {},
   "outputs": [],
   "source": [
    "sorted_df = pd.read_excel(\"sortedmasterchem.xlsx\")\n",
    "sorted_df.drop('Unnamed: 0', axis=1, inplace=True)\n",
    "\n",
    "# Convert Chemistry and Hate to python list instead of string\n",
    "sorted_df['Chemistry'] = sorted_df['Chemistry'].apply(lambda x: ast.literal_eval(x) if isinstance(x, str) else x)\n",
    "sorted_df['Hate'] = sorted_df['Hate'].apply(lambda x: ast.literal_eval(x) if isinstance(x, str) else x)\n"
   ]
  },
  {
   "cell_type": "code",
   "execution_count": 4,
   "metadata": {},
   "outputs": [],
   "source": [
    "# Scale dictionary values"
   ]
  },
  {
   "cell_type": "code",
   "execution_count": 5,
   "metadata": {},
   "outputs": [],
   "source": [
    "def min_max_scale(dictionary):\n",
    "    values = list(dictionary.values())\n",
    "    min_val, max_val = min(values), max(values)\n",
    "    \n",
    "    if min_val == max_val:  # Prevent division by zero\n",
    "        return {k: 0.50 for k in dictionary}  # Default to mid-range if all values are the same\n",
    "\n",
    "    return {k: round((v - min_val) / (max_val - min_val), 2) for k, v in dictionary.items()}\n"
   ]
  },
  {
   "cell_type": "code",
   "execution_count": 6,
   "metadata": {},
   "outputs": [],
   "source": [
    "# Chemistry metric function"
   ]
  },
  {
   "cell_type": "code",
   "execution_count": 7,
   "metadata": {},
   "outputs": [],
   "source": [
    "import math\n",
    "\n",
    "def calculate_chemistry_metric(current_team, drafted_players, df, k=0.9, x0=4.5, neg_chem_weight=.5):\n",
    "    # Initialize a dictionary to store the chemistry metric for each available player\n",
    "    chemistry_metrics = {}\n",
    "\n",
    "    # Generate available players\n",
    "    available_players = list(set(df['Character Name'].tolist()) - set(drafted_players))\n",
    "    available_players = list(set(available_players) - set(current_team))\n",
    "\n",
    "    # Calculate the weight based on the size of the current team\n",
    "    team_size = len(current_team)\n",
    "    weight_current_team = 1 / (1 + math.exp(-k * (team_size - x0)))\n",
    "    weight_available_players = 1 - weight_current_team\n",
    "    weight_unique_chem = weight_available_players\n",
    "    print(\"team_size\", team_size)\n",
    "    print(\"weight_current_team:\", weight_current_team)\n",
    "    print(\"weight_available_players:\", weight_available_players)\n",
    "\n",
    "    for player in available_players:\n",
    "        # Get the player's row from the dataframe\n",
    "        player_row = df[df['Character Name'] == player].iloc[0]\n",
    "\n",
    "        # Calculate positive and negative chemistry connections with the current team\n",
    "        positive_chem_current_team = len(set(player_row['Chemistry']).intersection(current_team))\n",
    "        negative_chem_current_team = len(set(player_row['Hate']).intersection(current_team)) * neg_chem_weight\n",
    "\n",
    "        # Calculate positive and negative chemistry connections with the available players\n",
    "        positive_chem_available_players = len(set(player_row['Chemistry']).intersection(available_players))\n",
    "        negative_chem_available_players = len(set(player_row['Hate']).intersection(available_players)) * neg_chem_weight\n",
    "\n",
    "        # Calculate the number of unique chemistry connections the player would add to the current team\n",
    "        unique_chem = len(set(player_row['Chemistry']) - set([item for string in current_team for item in df.loc[df['Character Name'] == string, 'Chemistry'].sum()]))\n",
    "\n",
    "\n",
    "        # Calculate the chemistry metric\n",
    "        chemistry_metric = (\n",
    "            weight_current_team * (positive_chem_current_team - negative_chem_current_team) +\n",
    "            weight_available_players * (positive_chem_available_players - negative_chem_available_players) +\n",
    "            weight_unique_chem * (unique_chem)\n",
    "        )\n",
    "\n",
    "        # Store the chemistry metric for the player\n",
    "        chemistry_metrics[player] = round(chemistry_metric, 2)\n",
    "\n",
    "    scaled_chemistry_metrics = min_max_scale(chemistry_metrics)\n",
    "\n",
    "    return scaled_chemistry_metrics\n"
   ]
  },
  {
   "cell_type": "code",
   "execution_count": 8,
   "metadata": {},
   "outputs": [
    {
     "name": "stdout",
     "output_type": "stream",
     "text": [
      "team_size 1\n",
      "weight_current_team: 0.041091278200465015\n",
      "weight_available_players: 0.958908721799535\n"
     ]
    },
    {
     "data": {
      "text/plain": [
       "{'Birdo': 1.0,\n",
       " 'Baby Peach': 0.98,\n",
       " 'Mario': 0.96,\n",
       " 'Toadette': 0.84,\n",
       " 'Toadsworth': 0.8,\n",
       " 'Baby DK': 0.78,\n",
       " 'Yellow Pianta': 0.75,\n",
       " 'Pianta': 0.75,\n",
       " 'Red Mii Female': 0.73,\n",
       " 'Peach': 0.71,\n",
       " 'Red Pianta': 0.71,\n",
       " 'Baby Daisy': 0.67,\n",
       " 'Green Mii Male': 0.65,\n",
       " 'Green Mii Female': 0.65,\n",
       " 'Monty Mole': 0.58,\n",
       " 'Boo': 0.56,\n",
       " 'Blue Mii Female': 0.55,\n",
       " 'Blue Mii Male': 0.55,\n",
       " 'Yellow Toad': 0.54,\n",
       " 'Green Toad': 0.54,\n",
       " 'Blue Toad': 0.54,\n",
       " 'Purple Toad': 0.54,\n",
       " 'Baby Luigi': 0.54,\n",
       " 'Baby Mario': 0.51,\n",
       " 'Brown Mii Male': 0.51,\n",
       " 'Brown Mii Female': 0.51,\n",
       " 'Toad': 0.51,\n",
       " 'Yellow Mii Female': 0.47,\n",
       " 'Yellow Mii Male': 0.47,\n",
       " 'Pink Mii Female': 0.44,\n",
       " 'Pink Mii Male': 0.44,\n",
       " 'Koopa Troopa': 0.44,\n",
       " 'Red Koopa Troopa': 0.4,\n",
       " 'Yoshi': 0.35,\n",
       " 'Pink Yoshi': 0.35,\n",
       " 'Yellow Yoshi': 0.35,\n",
       " 'Noki': 0.35,\n",
       " 'Green Noki': 0.35,\n",
       " 'Blue Yoshi': 0.35,\n",
       " 'Funky Kong': 0.35,\n",
       " 'Light Blue Yoshi': 0.35,\n",
       " 'Tiny Kong': 0.33,\n",
       " 'King K Rool': 0.33,\n",
       " 'Red Noki': 0.31,\n",
       " 'Red Yoshi': 0.31,\n",
       " 'Wiggler': 0.29,\n",
       " 'Donkey Kong': 0.27,\n",
       " 'Blooper': 0.27,\n",
       " 'White Mii Male': 0.25,\n",
       " 'White Mii Female': 0.25,\n",
       " 'Koopa Paratroopa': 0.24,\n",
       " 'Bowser Jr.': 0.24,\n",
       " 'Hammer Bro': 0.22,\n",
       " 'Light Blue Mii Female': 0.22,\n",
       " 'Light Blue Mii Male': 0.22,\n",
       " 'Boomerang Bro': 0.22,\n",
       " 'Dixie Kong': 0.2,\n",
       " 'Red Koopa Paratroopa': 0.2,\n",
       " 'Daisy': 0.2,\n",
       " 'King Boo': 0.18,\n",
       " 'Yellow Magikoopa': 0.18,\n",
       " 'Petey Piranha': 0.18,\n",
       " 'Green Magikoopa': 0.18,\n",
       " 'Magikoopa': 0.18,\n",
       " 'Fire Bro': 0.18,\n",
       " 'Paragoomba': 0.16,\n",
       " 'Light Green Mii Male': 0.15,\n",
       " 'Red Magikoopa': 0.15,\n",
       " 'Green Dry Bones': 0.15,\n",
       " 'Light Green Mii Female': 0.15,\n",
       " 'Orange Mii Female': 0.15,\n",
       " 'Dry Bones': 0.15,\n",
       " 'Purple Mii Female': 0.15,\n",
       " 'Blue Dry Bones': 0.15,\n",
       " 'Orange Mii Male': 0.15,\n",
       " 'Purple Mii Male': 0.15,\n",
       " 'Waluigi': 0.13,\n",
       " 'Diddy Kong': 0.13,\n",
       " 'Dark Bones': 0.11,\n",
       " 'Black Mii Female': 0.11,\n",
       " 'Green Shy Guy': 0.11,\n",
       " 'Wario': 0.11,\n",
       " 'Blue Shy Guy': 0.11,\n",
       " 'Goomba': 0.11,\n",
       " 'Yellow Shy Guy': 0.11,\n",
       " 'Black Mii Male': 0.11,\n",
       " 'Shy Guy': 0.07,\n",
       " 'Blue Kritter': 0.04,\n",
       " 'Black Shy Guy': 0.04,\n",
       " 'Brown Kritter': 0.04,\n",
       " 'Kritter': 0.04,\n",
       " 'Red Kritter': 0.0}"
      ]
     },
     "execution_count": 8,
     "metadata": {},
     "output_type": "execute_result"
    }
   ],
   "source": [
    "\n",
    "current_team = ['Bowser']\n",
    "available_players = ['Luigi', 'Red Mii Male']\n",
    "\n",
    "metrics = calculate_chemistry_metric(current_team, available_players, sorted_df)\n",
    "dict(sorted(metrics.items(), key=lambda item: item[1], reverse=True))"
   ]
  },
  {
   "cell_type": "code",
   "execution_count": 9,
   "metadata": {},
   "outputs": [
    {
     "name": "stdout",
     "output_type": "stream",
     "text": [
      "team_size 8\n",
      "weight_current_team: 0.958908721799535\n",
      "weight_available_players: 0.04109127820046499\n"
     ]
    },
    {
     "data": {
      "text/plain": [
       "{'Koopa Paratroopa': 1.0,\n",
       " 'Hammer Bro': 0.78,\n",
       " 'Green Magikoopa': 0.66,\n",
       " 'Red Koopa Troopa': 0.62,\n",
       " 'Bowser Jr.': 0.59,\n",
       " 'Red Koopa Paratroopa': 0.58,\n",
       " 'Dry Bones': 0.57,\n",
       " 'Blue Dry Bones': 0.57,\n",
       " 'Dark Bones': 0.56,\n",
       " 'Green Noki': 0.56,\n",
       " 'Light Blue Yoshi': 0.56,\n",
       " 'Kritter': 0.51,\n",
       " 'Yellow Pianta': 0.48,\n",
       " 'Pianta': 0.48,\n",
       " 'King K Rool': 0.47,\n",
       " 'Red Pianta': 0.47,\n",
       " 'Baby Peach': 0.45,\n",
       " 'Green Shy Guy': 0.43,\n",
       " 'Toadette': 0.38,\n",
       " 'Funky Kong': 0.38,\n",
       " 'Tiny Kong': 0.37,\n",
       " 'Boomerang Bro': 0.37,\n",
       " 'Yoshi': 0.36,\n",
       " 'Pink Yoshi': 0.36,\n",
       " 'Yellow Yoshi': 0.36,\n",
       " 'Peach': 0.36,\n",
       " 'Blue Yoshi': 0.36,\n",
       " 'Fire Bro': 0.36,\n",
       " 'Toadsworth': 0.35,\n",
       " 'Red Yoshi': 0.35,\n",
       " 'Black Mii Female': 0.34,\n",
       " 'Light Blue Mii Female': 0.34,\n",
       " 'Black Mii Male': 0.34,\n",
       " 'Baby DK': 0.29,\n",
       " 'Birdo': 0.29,\n",
       " 'Red Mii Female': 0.26,\n",
       " 'Red Magikoopa': 0.25,\n",
       " 'Yellow Magikoopa': 0.25,\n",
       " 'Magikoopa': 0.25,\n",
       " 'Baby Mario': 0.24,\n",
       " 'Monty Mole': 0.23,\n",
       " 'Goomba': 0.23,\n",
       " 'Blue Mii Female': 0.22,\n",
       " 'Blue Mii Male': 0.22,\n",
       " 'Yellow Mii Female': 0.2,\n",
       " 'Brown Mii Male': 0.2,\n",
       " 'Brown Mii Female': 0.2,\n",
       " 'Yellow Mii Male': 0.2,\n",
       " 'Pink Mii Female': 0.18,\n",
       " 'Pink Mii Male': 0.18,\n",
       " 'Baby Daisy': 0.18,\n",
       " 'Wiggler': 0.18,\n",
       " 'White Mii Male': 0.17,\n",
       " 'Blooper': 0.17,\n",
       " 'White Mii Female': 0.17,\n",
       " 'Donkey Kong': 0.15,\n",
       " 'Noki': 0.15,\n",
       " 'Orange Mii Female': 0.14,\n",
       " 'Red Noki': 0.14,\n",
       " 'Purple Mii Female': 0.14,\n",
       " 'Orange Mii Male': 0.14,\n",
       " 'Purple Mii Male': 0.14,\n",
       " 'Light Green Mii Male': 0.13,\n",
       " 'Mario': 0.13,\n",
       " 'Light Green Mii Female': 0.13,\n",
       " 'Boo': 0.13,\n",
       " 'Waluigi': 0.13,\n",
       " 'Wario': 0.13,\n",
       " 'Daisy': 0.13,\n",
       " 'Diddy Kong': 0.11,\n",
       " 'Blue Kritter': 0.1,\n",
       " 'Brown Kritter': 0.1,\n",
       " 'Red Kritter': 0.09,\n",
       " 'Yellow Toad': 0.06,\n",
       " 'Blue Toad': 0.06,\n",
       " 'Purple Toad': 0.06,\n",
       " 'Toad': 0.05,\n",
       " 'Petey Piranha': 0.04,\n",
       " 'King Boo': 0.03,\n",
       " 'Dixie Kong': 0.03,\n",
       " 'Paragoomba': 0.03,\n",
       " 'Blue Shy Guy': 0.02,\n",
       " 'Yellow Shy Guy': 0.02,\n",
       " 'Shy Guy': 0.01,\n",
       " 'Black Shy Guy': 0.0}"
      ]
     },
     "execution_count": 9,
     "metadata": {},
     "output_type": "execute_result"
    }
   ],
   "source": [
    "current_team = ['Bowser', 'Baby Luigi', 'Green Mii Male', 'Koopa Troopa', 'Green Dry Bones', 'Green Toad', 'Light Blue Mii Male', \"Green Mii Female\"]\n",
    "available_players = ['Luigi', 'Red Mii Male']\n",
    "\n",
    "big_metrics = calculate_chemistry_metric(current_team, available_players, sorted_df)\n",
    "dict(sorted(big_metrics.items(), key=lambda item: item[1], reverse=True))"
   ]
  },
  {
   "cell_type": "code",
   "execution_count": null,
   "metadata": {},
   "outputs": [],
   "source": []
  },
  {
   "cell_type": "code",
   "execution_count": 11,
   "metadata": {},
   "outputs": [
    {
     "name": "stdout",
     "output_type": "stream",
     "text": [
      "('Mario', 271.7, 0.8, 0.9, 70, 50, 80, 30, 40)\n",
      "('Luigi', 261.2, 0.5, 0.7, 60, 55, 75, 25, 45)\n",
      "('Peach', 255.9, 0.3, 0.6, 50, 60, 90, 20, 35)\n"
     ]
    }
   ],
   "source": [
    "def create_player_tuples(scores):\n",
    "    # Define the metrics to extract\n",
    "    metrics = ['chem_score', 'slugging', 'charge_hit_power', 'slap_hit_power', 'speed', 'home_runs', 'pitching_stamina']\n",
    "\n",
    "    player_tuples = []\n",
    "    for player, stats in scores.items():\n",
    "        # Calculate total score (sum of all metrics, modify as needed)\n",
    "        total_score = sum(stats.get(metric, 0) for metric in metrics)\n",
    "\n",
    "        # Extract values for required metrics, defaulting to 0 if missing\n",
    "        values = [stats.get(metric, 0) for metric in metrics]\n",
    "\n",
    "        # Create tuple: (player, total_score, metric values...)\n",
    "        player_tuples.append((player, total_score, *values))\n",
    "\n",
    "    return player_tuples\n",
    "\n",
    "# Example dictionary\n",
    "scores = {\n",
    "    'Mario': {'chem_score': 0.8, 'slugging': 0.9, 'charge_hit_power': 70, 'slap_hit_power': 50, 'speed': 80, 'home_runs': 30, 'pitching_stamina': 40},\n",
    "    'Luigi': {'chem_score': 0.5, 'slugging': 0.7, 'charge_hit_power': 60, 'slap_hit_power': 55, 'speed': 75, 'home_runs': 25, 'pitching_stamina': 45},\n",
    "    'Peach': {'chem_score': 0.3, 'slugging': 0.6, 'charge_hit_power': 50, 'slap_hit_power': 60, 'speed': 90, 'home_runs': 20, 'pitching_stamina': 35},\n",
    "}\n",
    "\n",
    "# Generate tuples\n",
    "player_tuples = create_player_tuples(scores)\n",
    "\n",
    "# Print result\n",
    "for tup in player_tuples:\n",
    "    print(tup)\n"
   ]
  },
  {
   "cell_type": "code",
   "execution_count": 14,
   "metadata": {},
   "outputs": [
    {
     "name": "stdout",
     "output_type": "stream",
     "text": [
      "0.8\n",
      "0.5\n",
      "0.3\n"
     ]
    }
   ],
   "source": [
    "for player, stats in scores.items():\n",
    "    print(stats['chem_score'])"
   ]
  }
 ],
 "metadata": {
  "kernelspec": {
   "display_name": "base",
   "language": "python",
   "name": "python3"
  },
  "language_info": {
   "codemirror_mode": {
    "name": "ipython",
    "version": 3
   },
   "file_extension": ".py",
   "mimetype": "text/x-python",
   "name": "python",
   "nbconvert_exporter": "python",
   "pygments_lexer": "ipython3",
   "version": "3.12.7"
  }
 },
 "nbformat": 4,
 "nbformat_minor": 2
}
